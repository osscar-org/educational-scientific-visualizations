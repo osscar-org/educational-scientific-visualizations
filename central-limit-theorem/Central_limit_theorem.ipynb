{
 "cells": [
  {
   "cell_type": "markdown",
   "metadata": {},
   "source": [
    "# The central limit theorem\n",
    "## Understanding via visualization\n",
    "#### Giovanni Pizzi (EPFL), Sep 2018\n",
    "[Go back to the list of all visualizations](https://github.com/giovannipizzi/educational-scientific-visualizations/)"
   ]
  },
  {
   "cell_type": "markdown",
   "metadata": {},
   "source": [
    "# Aim of this app\n",
    "The aim of this app is to:\n",
    "- visually prove the central limit theorem\n",
    "- give a feeling on how fast the normal distribution is obtained when you sum random distributions\n",
    "\n",
    "Read the _tasks_ below and play with the sliders to see the result!"
   ]
  },
  {
   "cell_type": "markdown",
   "metadata": {},
   "source": [
    "# The central limit theorem\n",
    "Suppose ${X_1, X_2, \\ldots}$ is a sequence of _independent and identically distributed_ random variables with expectation value $\\text{E}[X_i] = \\mu$ and variance $\\text{Var}[X_i] = \\sigma^2$. Then, in the limit of $n\\to\\infty$, the random variables \n",
    "$$\n",
    "S_N = \\sum_{i=1}^N X_i\n",
    "$$\n",
    "converge in distribution to a normal distribution with the following expectation value and variance:\n",
    "$$\n",
    "\\lim_{N\\to\\infty} \\text{E}[S_N] = N\\mu, \\qquad \\lim_{N\\to\\infty} \\text{Var}[S_N] = N\\sigma^2.\n",
    "$$"
   ]
  },
  {
   "cell_type": "markdown",
   "metadata": {},
   "source": [
    "# Tasks\n",
    "- <span style=\"color: #cc0000\">Move the sliders below and look at the results.</span>\n",
    "- <span style=\"color: #cc0000\">Verify that (for a uniform distribution) $N\\geq 3$ already the distribution approximates quite accurately a random distribution!!</span>\n",
    "- <span style=\"color: #cc0000\">Check how fast (as a function of $N$) the distribution converges to a normal distribution with other distributions.</span>\n",
    "- <span style=\"color: #cc0000\">Check the importance of having a large number of $n_\\text{samples}$ to achieve a good convergence.</span>\n"
   ]
  },
  {
   "cell_type": "markdown",
   "metadata": {},
   "source": [
    "# Numerical verification and visualization\n",
    "With the following selectors, you can pick:\n",
    "- the number $N$ of random variables to add\n",
    "- the number $n_\\text{samples}$ of random numbers that you want to generate for every sequence\n",
    "- the number $n_\\text{bins}$ of histogram bins\n",
    "- the type of random distribution"
   ]
  },
  {
   "cell_type": "code",
   "execution_count": null,
   "metadata": {},
   "outputs": [],
   "source": [
    "import math\n",
    "import numpy as np\n",
    "import bqplot.pyplot as pl"
   ]
  },
  {
   "cell_type": "code",
   "execution_count": null,
   "metadata": {},
   "outputs": [],
   "source": [
    "def get_numerical_arrays(number_of_samples, number_of_addends, bins, distrib_type):\n",
    "    if distrib_type == \"uniform\":\n",
    "        all_numbers = np.random.rand(number_of_addends, number_of_samples)\n",
    "        \n",
    "        description_string = (\n",
    "            r\"<strong>Distribution</strong>: random numbers in the [0,1[ range, uniformly distributed<br>\"\n",
    "            r\"<strong>Distribution average</strong>: $\\text{E}(X_i) = \\int_0^1 x\\, dx = \\frac 1 2$<br>\"\n",
    "            r\"<strong>Distribution variance</strong>: $\\text{Var}(X_i) = \\int_0^1 [x-\\text{E}(X_i)]^2\\, dx = \\frac 1 {12}$<br>\")\n",
    "        average = 0.5 \n",
    "        variance = 1./12.   \n",
    "    elif distrib_type == \"squared\":    \n",
    "        all_numbers = np.random.rand(number_of_addends, number_of_samples)**2\n",
    "        \n",
    "        description_string = (\n",
    "            r\"<strong>Distribution</strong>: random numbers in the [0,1[ range, uniformly distributed, then squared<br>\"\n",
    "            r\"<strong>Distribution average</strong>: $\\text{E}(X_i) = \\int_0^1 x^2\\, dx = \\frac 1 3$<br>\"\n",
    "            r\"<strong>Distribution variance</strong>: $\\text{Var}(X_i) = \\int_0^1 [x^2-\\text{E}(X_i)]^2\\, dx = \\frac 4 {45}$<br>\")\n",
    "\n",
    "        average = 1./3.\n",
    "        variance = 4./45.\n",
    "\n",
    "\n",
    "    elif distrib_type == \"squareroot\":    \n",
    "        all_numbers = np.sqrt(np.random.rand(number_of_addends, number_of_samples))\n",
    "        \n",
    "        description_string = (\n",
    "            r\"<strong>Distribution</strong>: random numbers in the [0,1[ range, uniformly distributed, then considering their square root<br>\"\n",
    "            r\"<strong>Distribution average</strong>: $\\text{E}(X_i) = \\int_0^1 \\sqrt{x}\\, dx = \\frac 3 2$<br>\"\n",
    "            r\"<strong>Distribution variance</strong>: $\\text{Var}(X_i) = \\int_0^1 [\\sqrt{x}-\\text{E}(X_i)]^2\\, dx = \\frac 1 {18}$<br>\")\n",
    "\n",
    "        average = 2./3.\n",
    "        variance = 1./18.\n",
    "\n",
    "    else:\n",
    "        raise NotImplementedError(\"Unknown type '{}'\".format(distrib_type))\n",
    "    \n",
    "    all_numbers_sum = all_numbers.sum(axis=0) \n",
    "    y, x_edges = np.histogram(all_numbers_sum, bins=bins)\n",
    "    x = (x_edges[1:] + x_edges[:-1])/2.\n",
    "\n",
    "    mu = average * number_of_addends\n",
    "    sigma = math.sqrt(variance * number_of_addends)\n",
    "    bin_width = x_edges[1] - x_edges[0]\n",
    "    norm = number_of_samples * bin_width\n",
    "\n",
    "    gaussian_x = np.linspace(x[0], x[-1], 300)\n",
    "    gaussian_y = 1./math.sqrt(2 * math.pi * sigma**2) * np.exp(-(gaussian_x-mu)**2/2/sigma**2) * norm\n",
    "    return x, y, gaussian_x, gaussian_y, description_string"
   ]
  },
  {
   "cell_type": "code",
   "execution_count": null,
   "metadata": {},
   "outputs": [],
   "source": [
    "from ipywidgets import Accordion, IntSlider, HTMLMath, Dropdown, Box, HBox, VBox, Layout\n",
    "from IPython.display import display\n",
    "\n",
    "n_widget = IntSlider(value=2, min=1, max=10, description = \"$N$\", continuous_update=False)\n",
    "n_samples_widget = IntSlider(value=50000, min=100, max=100000, description = r\"$n_{\\text{samples}}$\", continuous_update=False)\n",
    "n_bins_widget = IntSlider(value=100, min=20, max=400, description = r\"$n_{\\text{bins}}$\", continuous_update=False)\n",
    "type_widget = Dropdown(options=(\n",
    "        (\"Uniform\",\"uniform\"),\n",
    "        (\"Squared\",\"squared\"),\n",
    "        (\"Square root\",\"squareroot\"),    \n",
    "    ), \n",
    "    description = \"Distrib. type\", continuous_update=False, layout=Layout(width='250px'))\n",
    "\n",
    "distribution_plot = pl.figure()\n",
    "result_plot = pl.figure()\n",
    "distribution_description = HTMLMath(value=\"\")\n",
    "\n",
    "distribution_accordion = Accordion(children=[distribution_plot], layout=Layout(width='90%', max_width='400px'))\n",
    "distribution_accordion.set_title(0, 'Plot of a single distribution X')\n",
    "# Start closed\n",
    "distribution_accordion.selected_index = None"
   ]
  },
  {
   "cell_type": "code",
   "execution_count": null,
   "metadata": {},
   "outputs": [],
   "source": [
    "def on_distrib_params_change(change):        \n",
    "    x1, y1, _, _, _ = get_numerical_arrays(\n",
    "        number_of_samples=n_samples_widget.value, \n",
    "        number_of_addends=1, # one single distribution\n",
    "        bins=n_bins_widget.value,\n",
    "        distrib_type=type_widget.value)\n",
    "\n",
    "    x, y, gaussian_x, gaussian_y, description_string = get_numerical_arrays(\n",
    "        number_of_samples=n_samples_widget.value, \n",
    "        number_of_addends=n_widget.value, \n",
    "        bins=n_bins_widget.value,\n",
    "        distrib_type=type_widget.value)\n",
    "        \n",
    "    distribution_description.value = description_string\n",
    "    \n",
    "    pl.figure(fig=distribution_plot)\n",
    "    pl.clear()\n",
    "    pl.bar(x1,y1)\n",
    "    pl.ylim(0,max(y1)*1.3)\n",
    "    pl.xlabel(\"Value\")\n",
    "    pl.ylabel(\"Distribution of results\")\n",
    "\n",
    "    pl.figure(fig=result_plot)\n",
    "    result_plot.legend_location = 'top-left'\n",
    "    pl.clear()\n",
    "    reverse_options_map = {_[1]: _[0] for _ in type_widget.options}\n",
    "    pl.title('Distribution S (sum of {} \"{}\" distributions X)'.format(\n",
    "        n_widget.value, \n",
    "        reverse_options_map[type_widget.value].lower()\n",
    "    ))\n",
    "    pl.bar(x,y, labels=[\"Distribution S\"])\n",
    "    pl.plot(gaussian_x,gaussian_y, labels=[\"Theoretical limit\"], colors=[\"#ff0000\"])\n",
    "    pl.legend()\n",
    "    pl.xlabel(\"Value\")\n",
    "    pl.ylabel(\"Distribution of results\")\n",
    "\n",
    "n_widget.observe(on_distrib_params_change, names='value', type='change')\n",
    "n_samples_widget.observe(on_distrib_params_change, names='value', type='change')\n",
    "n_bins_widget.observe(on_distrib_params_change, names='value', type='change')\n",
    "type_widget.observe(on_distrib_params_change, names='value', type='change')\n",
    "# Create the plot\n",
    "on_distrib_params_change(None)"
   ]
  },
  {
   "cell_type": "code",
   "execution_count": null,
   "metadata": {},
   "outputs": [],
   "source": [
    "display(Box([\n",
    "        VBox([n_widget, n_samples_widget, n_bins_widget, type_widget], layout=Layout(width='350px')),\n",
    "        VBox([distribution_description, distribution_accordion], layout=Layout(min_width='300px')),\n",
    "    ], layout=Layout(width='100%', flex_flow='row wrap', display='flex')))"
   ]
  },
  {
   "cell_type": "code",
   "execution_count": null,
   "metadata": {},
   "outputs": [],
   "source": [
    "result_plot.layout.width = '100%'\n",
    "result_plot.layout.max_width = '800px'\n",
    "distribution_plot.layout.width = '100%'\n",
    "display(Box(children=[result_plot], layout=Layout(justify_content='center')))"
   ]
  },
  {
   "cell_type": "markdown",
   "metadata": {},
   "source": [
    "# References\n",
    "[1] [Central limit theorem on Wikipedia](https://en.wikipedia.org/wiki/Central_limit_theorem)"
   ]
  },
  {
   "cell_type": "code",
   "execution_count": null,
   "metadata": {},
   "outputs": [],
   "source": [
    "#from IPython.core.display import display, HTML\n",
    "#display(HTML(\"<style>.container { width:100% !important; }</style>\"))"
   ]
  },
  {
   "cell_type": "code",
   "execution_count": null,
   "metadata": {},
   "outputs": [],
   "source": []
  }
 ],
 "metadata": {
  "kernelspec": {
   "display_name": "Python 3",
   "language": "python",
   "name": "python3"
  },
  "language_info": {
   "codemirror_mode": {
    "name": "ipython",
    "version": 3
   },
   "file_extension": ".py",
   "mimetype": "text/x-python",
   "name": "python",
   "nbconvert_exporter": "python",
   "pygments_lexer": "ipython3",
   "version": "3.6.5"
  }
 },
 "nbformat": 4,
 "nbformat_minor": 2
}
